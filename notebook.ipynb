{
 "cells": [
  {
   "cell_type": "markdown",
   "metadata": {},
   "source": [
    "# Problem Statement\n",
    "\n",
    "In the contemporary marketplace, businesses have cutthroat competition. Keeping a high consumer engagement rate is a top priority for businesses.\n",
    "\n",
    "Analyzing the vast amount of data collected from the consumers is a challenging task. However, it is crucial to understand the consumer's behavior and preferences to improve the product and services.\n",
    "\n",
    "Our Task is to decode the unseen patterns in customer preferences and behaviors through a series of advanced analytical techniques, including Exploratory Data Analysis, Univariate and Bivariate Analysis, and Unsupervised Learning. The ultimate goal is to leverage these insights to segment customers efficiently.\n",
    "\n",
    "- The dataset paints a picture of 2.240 indivuals who \n",
    "were approached and includes socio-demographic and firmographic features about them. Additionally, it flags those who were inspired by the compaign and decided to buy the product.\n",
    "\n",
    "## Customer Data Attributes\n",
    "\n",
    "1. **ClientID**: Customer's unique identifier\n",
    "2. **BirthYear**: Customer's birth year\n",
    "3. **AcademicLevel**: Customer's education level\n",
    "4. **RelationshipStatus**: Customer's marital status\n",
    "5. **AnnualIncome**: Customer's yearly household income\n",
    "6. **ChildrenAtHome**: Number of small children in customer’s household\n",
    "7. **TeensAtHome**: Number of teenagers in customer’s household\n",
    "8. **EnrollmentDate**: Date of customer’s enrollment with the company\n",
    "9. **LastPurchaseDays**: Number of days since customer’s last purchase\n",
    "10. **RecentComplaint**: 1 if the customer complained in the last 2 years, 0 otherwise\n",
    "11. **WineSpending**: Amount spent on wine in last 2 years\n",
    "12. **FruitSpending**: Amount spent on fruits in last 2 years\n",
    "13. **MeatSpending**: Amount spent on meat in last 2 years\n",
    "14. **FishSpending**: Amount spent on fish in last 2 years\n",
    "15. **SweetSpending**: Amount spent on sweets in last 2 years\n",
    "16. **GoldSpending**: Amount spent on gold in last 2 years\n",
    "17. **Campaign1Success**: If customer accepted the offer in the 1st campaign, 0 otherwise\n",
    "18. **Campaign2Success**: If customer accepted the offer in the 2nd campaign, 0 otherwise\n",
    "19. **Campaign3Success**: If customer accepted the offer in the 3rd campaign, 0 otherwise\n",
    "20. **Campaign4Success**: If customer accepted the offer in the 4th campaign, 0 otherwise\n",
    "21. **Campaign5Success**: If customer accepted the offer in the 5th campaign, 0 otherwise\n",
    "22. **LastCampaignResponse**: If customer accepted the offer in the last campaign, 0 otherwise\n",
    "23. **WebPurchases**: Number of purchases made through the company’s website\n",
    "24. **StorePurchases**: Number of purchases made directly in the store\n",
    "25. **CatalogPurchases**: Number of purchases made through a catalog\n",
    "26. **DiscountedPurchases**: Number of purchases made with a discount\n",
    "27. **WebVisitsMonth**: Number of visits to the website in the last month"
   ]
  },
  {
   "cell_type": "markdown",
   "metadata": {},
   "source": [
    "## TABLE OF CONTENTS:\n",
    "* [LOAD DATA](#LOAD-DATA)\n",
    "* [DATA PREPROCESSING](#DATA-PREPROCESSING)\n",
    "* [FEATURE ENGINEERING](#FEATURE-ENGINEERING)\n",
    "* [UNIVARIATE ANALYSIS](#UNIVARIATE-ANALYSIS)\n",
    "* [BIVARIATE ANALYSIS](#BIVARIATE-ANALYSIS)"
   ]
  },
  {
   "cell_type": "code",
   "execution_count": 839,
   "metadata": {},
   "outputs": [],
   "source": [
    "# Importing Libraries\n",
    "import numpy as np\n",
    "import pandas as pd\n",
    "import matplotlib.pyplot as plt\n",
    "import seaborn as sns\n",
    "import warnings\n",
    "import sys\n",
    "import scipy.stats as stats\n",
    "# Ignoring Warnings\n",
    "if not sys.warnoptions:\n",
    "    warnings.simplefilter(\"ignore\")\n",
    "# Setting Seed for Reproducibility\n",
    "np.random.seed(123) "
   ]
  },
  {
   "cell_type": "markdown",
   "metadata": {},
   "source": [
    "# LOAD DATA"
   ]
  },
  {
   "cell_type": "code",
   "execution_count": 840,
   "metadata": {},
   "outputs": [],
   "source": [
    "# Loading data\n",
    "data = pd.read_csv(\"dataset\\dataset.csv\", sep=\"\\t\")\n"
   ]
  },
  {
   "cell_type": "code",
   "execution_count": 841,
   "metadata": {},
   "outputs": [
    {
     "data": {
      "text/plain": [
       "Index(['ClientID', 'BirthYear', 'AcademicLevel', 'RelationshipStatus',\n",
       "       'AnnualIncome', 'ChildrenAtHome', 'TeensAtHome', 'EnrollmentDate',\n",
       "       'LastPurchaseDays', 'WineSpending', 'FruitSpending', 'MeatSpending',\n",
       "       'FishSpending', 'SweetSpending', 'GoldSpending', 'DiscountedPurchases',\n",
       "       'WebPurchases', 'CatalogPurchases', 'StorePurchases', 'WebVisitsMonth',\n",
       "       'Campaign3Success', 'Campaign4Success', 'Campaign5Success',\n",
       "       'Campaign1Success', 'Campaign2Success', 'RecentComplaint', 'Z_CC',\n",
       "       'Z_R', 'LastCampaignResponse'],\n",
       "      dtype='object')"
      ]
     },
     "execution_count": 841,
     "metadata": {},
     "output_type": "execute_result"
    }
   ],
   "source": [
    "# Looking at the first five rows\n",
    "data.columns"
   ]
  },
  {
   "cell_type": "code",
   "execution_count": 842,
   "metadata": {},
   "outputs": [
    {
     "data": {
      "text/html": [
       "<div>\n",
       "<style scoped>\n",
       "    .dataframe tbody tr th:only-of-type {\n",
       "        vertical-align: middle;\n",
       "    }\n",
       "\n",
       "    .dataframe tbody tr th {\n",
       "        vertical-align: top;\n",
       "    }\n",
       "\n",
       "    .dataframe thead th {\n",
       "        text-align: right;\n",
       "    }\n",
       "</style>\n",
       "<table border=\"1\" class=\"dataframe\">\n",
       "  <thead>\n",
       "    <tr style=\"text-align: right;\">\n",
       "      <th></th>\n",
       "      <th>ClientID</th>\n",
       "      <th>BirthYear</th>\n",
       "      <th>AcademicLevel</th>\n",
       "      <th>RelationshipStatus</th>\n",
       "      <th>AnnualIncome</th>\n",
       "      <th>ChildrenAtHome</th>\n",
       "      <th>TeensAtHome</th>\n",
       "      <th>EnrollmentDate</th>\n",
       "      <th>LastPurchaseDays</th>\n",
       "      <th>WineSpending</th>\n",
       "      <th>...</th>\n",
       "      <th>WebVisitsMonth</th>\n",
       "      <th>Campaign3Success</th>\n",
       "      <th>Campaign4Success</th>\n",
       "      <th>Campaign5Success</th>\n",
       "      <th>Campaign1Success</th>\n",
       "      <th>Campaign2Success</th>\n",
       "      <th>RecentComplaint</th>\n",
       "      <th>Z_CC</th>\n",
       "      <th>Z_R</th>\n",
       "      <th>LastCampaignResponse</th>\n",
       "    </tr>\n",
       "  </thead>\n",
       "  <tbody>\n",
       "    <tr>\n",
       "      <th>2235</th>\n",
       "      <td>10870</td>\n",
       "      <td>1967</td>\n",
       "      <td>Graduation</td>\n",
       "      <td>Married</td>\n",
       "      <td>61223.0</td>\n",
       "      <td>0</td>\n",
       "      <td>1</td>\n",
       "      <td>13-06-2013</td>\n",
       "      <td>46</td>\n",
       "      <td>709</td>\n",
       "      <td>...</td>\n",
       "      <td>5</td>\n",
       "      <td>0</td>\n",
       "      <td>0</td>\n",
       "      <td>0</td>\n",
       "      <td>0</td>\n",
       "      <td>0</td>\n",
       "      <td>0</td>\n",
       "      <td>3</td>\n",
       "      <td>11</td>\n",
       "      <td>0</td>\n",
       "    </tr>\n",
       "    <tr>\n",
       "      <th>2236</th>\n",
       "      <td>4001</td>\n",
       "      <td>1946</td>\n",
       "      <td>PhD</td>\n",
       "      <td>Together</td>\n",
       "      <td>64014.0</td>\n",
       "      <td>2</td>\n",
       "      <td>1</td>\n",
       "      <td>10-06-2014</td>\n",
       "      <td>56</td>\n",
       "      <td>406</td>\n",
       "      <td>...</td>\n",
       "      <td>7</td>\n",
       "      <td>0</td>\n",
       "      <td>0</td>\n",
       "      <td>0</td>\n",
       "      <td>1</td>\n",
       "      <td>0</td>\n",
       "      <td>0</td>\n",
       "      <td>3</td>\n",
       "      <td>11</td>\n",
       "      <td>0</td>\n",
       "    </tr>\n",
       "    <tr>\n",
       "      <th>2237</th>\n",
       "      <td>7270</td>\n",
       "      <td>1981</td>\n",
       "      <td>Graduation</td>\n",
       "      <td>Divorced</td>\n",
       "      <td>56981.0</td>\n",
       "      <td>0</td>\n",
       "      <td>0</td>\n",
       "      <td>25-01-2014</td>\n",
       "      <td>91</td>\n",
       "      <td>908</td>\n",
       "      <td>...</td>\n",
       "      <td>6</td>\n",
       "      <td>0</td>\n",
       "      <td>1</td>\n",
       "      <td>0</td>\n",
       "      <td>0</td>\n",
       "      <td>0</td>\n",
       "      <td>0</td>\n",
       "      <td>3</td>\n",
       "      <td>11</td>\n",
       "      <td>0</td>\n",
       "    </tr>\n",
       "    <tr>\n",
       "      <th>2238</th>\n",
       "      <td>8235</td>\n",
       "      <td>1956</td>\n",
       "      <td>Master</td>\n",
       "      <td>Together</td>\n",
       "      <td>69245.0</td>\n",
       "      <td>0</td>\n",
       "      <td>1</td>\n",
       "      <td>24-01-2014</td>\n",
       "      <td>8</td>\n",
       "      <td>428</td>\n",
       "      <td>...</td>\n",
       "      <td>3</td>\n",
       "      <td>0</td>\n",
       "      <td>0</td>\n",
       "      <td>0</td>\n",
       "      <td>0</td>\n",
       "      <td>0</td>\n",
       "      <td>0</td>\n",
       "      <td>3</td>\n",
       "      <td>11</td>\n",
       "      <td>0</td>\n",
       "    </tr>\n",
       "    <tr>\n",
       "      <th>2239</th>\n",
       "      <td>9405</td>\n",
       "      <td>1954</td>\n",
       "      <td>PhD</td>\n",
       "      <td>Married</td>\n",
       "      <td>52869.0</td>\n",
       "      <td>1</td>\n",
       "      <td>1</td>\n",
       "      <td>15-10-2012</td>\n",
       "      <td>40</td>\n",
       "      <td>84</td>\n",
       "      <td>...</td>\n",
       "      <td>7</td>\n",
       "      <td>0</td>\n",
       "      <td>0</td>\n",
       "      <td>0</td>\n",
       "      <td>0</td>\n",
       "      <td>0</td>\n",
       "      <td>0</td>\n",
       "      <td>3</td>\n",
       "      <td>11</td>\n",
       "      <td>1</td>\n",
       "    </tr>\n",
       "  </tbody>\n",
       "</table>\n",
       "<p>5 rows × 29 columns</p>\n",
       "</div>"
      ],
      "text/plain": [
       "      ClientID  BirthYear AcademicLevel RelationshipStatus  AnnualIncome  \\\n",
       "2235     10870       1967    Graduation            Married       61223.0   \n",
       "2236      4001       1946           PhD           Together       64014.0   \n",
       "2237      7270       1981    Graduation           Divorced       56981.0   \n",
       "2238      8235       1956        Master           Together       69245.0   \n",
       "2239      9405       1954           PhD            Married       52869.0   \n",
       "\n",
       "      ChildrenAtHome  TeensAtHome EnrollmentDate  LastPurchaseDays  \\\n",
       "2235               0            1     13-06-2013                46   \n",
       "2236               2            1     10-06-2014                56   \n",
       "2237               0            0     25-01-2014                91   \n",
       "2238               0            1     24-01-2014                 8   \n",
       "2239               1            1     15-10-2012                40   \n",
       "\n",
       "      WineSpending  ...  WebVisitsMonth  Campaign3Success  Campaign4Success  \\\n",
       "2235           709  ...               5                 0                 0   \n",
       "2236           406  ...               7                 0                 0   \n",
       "2237           908  ...               6                 0                 1   \n",
       "2238           428  ...               3                 0                 0   \n",
       "2239            84  ...               7                 0                 0   \n",
       "\n",
       "      Campaign5Success  Campaign1Success  Campaign2Success  RecentComplaint  \\\n",
       "2235                 0                 0                 0                0   \n",
       "2236                 0                 1                 0                0   \n",
       "2237                 0                 0                 0                0   \n",
       "2238                 0                 0                 0                0   \n",
       "2239                 0                 0                 0                0   \n",
       "\n",
       "      Z_CC  Z_R  LastCampaignResponse  \n",
       "2235     3   11                     0  \n",
       "2236     3   11                     0  \n",
       "2237     3   11                     0  \n",
       "2238     3   11                     0  \n",
       "2239     3   11                     1  \n",
       "\n",
       "[5 rows x 29 columns]"
      ]
     },
     "execution_count": 842,
     "metadata": {},
     "output_type": "execute_result"
    }
   ],
   "source": [
    "data.tail(5)"
   ]
  },
  {
   "cell_type": "markdown",
   "metadata": {},
   "source": [
    "### Data Preprocessing"
   ]
  },
  {
   "cell_type": "code",
   "execution_count": 843,
   "metadata": {},
   "outputs": [
    {
     "data": {
      "text/html": [
       "<div>\n",
       "<style scoped>\n",
       "    .dataframe tbody tr th:only-of-type {\n",
       "        vertical-align: middle;\n",
       "    }\n",
       "\n",
       "    .dataframe tbody tr th {\n",
       "        vertical-align: top;\n",
       "    }\n",
       "\n",
       "    .dataframe thead th {\n",
       "        text-align: right;\n",
       "    }\n",
       "</style>\n",
       "<table border=\"1\" class=\"dataframe\">\n",
       "  <thead>\n",
       "    <tr style=\"text-align: right;\">\n",
       "      <th></th>\n",
       "      <th>ClientID</th>\n",
       "      <th>BirthYear</th>\n",
       "      <th>AnnualIncome</th>\n",
       "      <th>ChildrenAtHome</th>\n",
       "      <th>TeensAtHome</th>\n",
       "      <th>LastPurchaseDays</th>\n",
       "      <th>WineSpending</th>\n",
       "      <th>FruitSpending</th>\n",
       "      <th>MeatSpending</th>\n",
       "      <th>FishSpending</th>\n",
       "      <th>...</th>\n",
       "      <th>WebVisitsMonth</th>\n",
       "      <th>Campaign3Success</th>\n",
       "      <th>Campaign4Success</th>\n",
       "      <th>Campaign5Success</th>\n",
       "      <th>Campaign1Success</th>\n",
       "      <th>Campaign2Success</th>\n",
       "      <th>RecentComplaint</th>\n",
       "      <th>Z_CC</th>\n",
       "      <th>Z_R</th>\n",
       "      <th>LastCampaignResponse</th>\n",
       "    </tr>\n",
       "  </thead>\n",
       "  <tbody>\n",
       "    <tr>\n",
       "      <th>count</th>\n",
       "      <td>2240.000000</td>\n",
       "      <td>2240.000000</td>\n",
       "      <td>2216.000000</td>\n",
       "      <td>2240.000000</td>\n",
       "      <td>2240.000000</td>\n",
       "      <td>2240.000000</td>\n",
       "      <td>2240.000000</td>\n",
       "      <td>2240.000000</td>\n",
       "      <td>2240.000000</td>\n",
       "      <td>2240.000000</td>\n",
       "      <td>...</td>\n",
       "      <td>2240.000000</td>\n",
       "      <td>2240.000000</td>\n",
       "      <td>2240.000000</td>\n",
       "      <td>2240.000000</td>\n",
       "      <td>2240.000000</td>\n",
       "      <td>2240.000000</td>\n",
       "      <td>2240.000000</td>\n",
       "      <td>2240.0</td>\n",
       "      <td>2240.0</td>\n",
       "      <td>2240.000000</td>\n",
       "    </tr>\n",
       "    <tr>\n",
       "      <th>mean</th>\n",
       "      <td>5592.159821</td>\n",
       "      <td>1968.805804</td>\n",
       "      <td>52247.251354</td>\n",
       "      <td>0.444196</td>\n",
       "      <td>0.506250</td>\n",
       "      <td>49.109375</td>\n",
       "      <td>303.935714</td>\n",
       "      <td>26.302232</td>\n",
       "      <td>166.950000</td>\n",
       "      <td>37.525446</td>\n",
       "      <td>...</td>\n",
       "      <td>5.316518</td>\n",
       "      <td>0.072768</td>\n",
       "      <td>0.074554</td>\n",
       "      <td>0.072768</td>\n",
       "      <td>0.064286</td>\n",
       "      <td>0.013393</td>\n",
       "      <td>0.009375</td>\n",
       "      <td>3.0</td>\n",
       "      <td>11.0</td>\n",
       "      <td>0.149107</td>\n",
       "    </tr>\n",
       "    <tr>\n",
       "      <th>std</th>\n",
       "      <td>3246.662198</td>\n",
       "      <td>11.984069</td>\n",
       "      <td>25173.076661</td>\n",
       "      <td>0.538398</td>\n",
       "      <td>0.544538</td>\n",
       "      <td>28.962453</td>\n",
       "      <td>336.597393</td>\n",
       "      <td>39.773434</td>\n",
       "      <td>225.715373</td>\n",
       "      <td>54.628979</td>\n",
       "      <td>...</td>\n",
       "      <td>2.426645</td>\n",
       "      <td>0.259813</td>\n",
       "      <td>0.262728</td>\n",
       "      <td>0.259813</td>\n",
       "      <td>0.245316</td>\n",
       "      <td>0.114976</td>\n",
       "      <td>0.096391</td>\n",
       "      <td>0.0</td>\n",
       "      <td>0.0</td>\n",
       "      <td>0.356274</td>\n",
       "    </tr>\n",
       "    <tr>\n",
       "      <th>min</th>\n",
       "      <td>0.000000</td>\n",
       "      <td>1893.000000</td>\n",
       "      <td>1730.000000</td>\n",
       "      <td>0.000000</td>\n",
       "      <td>0.000000</td>\n",
       "      <td>0.000000</td>\n",
       "      <td>0.000000</td>\n",
       "      <td>0.000000</td>\n",
       "      <td>0.000000</td>\n",
       "      <td>0.000000</td>\n",
       "      <td>...</td>\n",
       "      <td>0.000000</td>\n",
       "      <td>0.000000</td>\n",
       "      <td>0.000000</td>\n",
       "      <td>0.000000</td>\n",
       "      <td>0.000000</td>\n",
       "      <td>0.000000</td>\n",
       "      <td>0.000000</td>\n",
       "      <td>3.0</td>\n",
       "      <td>11.0</td>\n",
       "      <td>0.000000</td>\n",
       "    </tr>\n",
       "    <tr>\n",
       "      <th>25%</th>\n",
       "      <td>2828.250000</td>\n",
       "      <td>1959.000000</td>\n",
       "      <td>35303.000000</td>\n",
       "      <td>0.000000</td>\n",
       "      <td>0.000000</td>\n",
       "      <td>24.000000</td>\n",
       "      <td>23.750000</td>\n",
       "      <td>1.000000</td>\n",
       "      <td>16.000000</td>\n",
       "      <td>3.000000</td>\n",
       "      <td>...</td>\n",
       "      <td>3.000000</td>\n",
       "      <td>0.000000</td>\n",
       "      <td>0.000000</td>\n",
       "      <td>0.000000</td>\n",
       "      <td>0.000000</td>\n",
       "      <td>0.000000</td>\n",
       "      <td>0.000000</td>\n",
       "      <td>3.0</td>\n",
       "      <td>11.0</td>\n",
       "      <td>0.000000</td>\n",
       "    </tr>\n",
       "    <tr>\n",
       "      <th>50%</th>\n",
       "      <td>5458.500000</td>\n",
       "      <td>1970.000000</td>\n",
       "      <td>51381.500000</td>\n",
       "      <td>0.000000</td>\n",
       "      <td>0.000000</td>\n",
       "      <td>49.000000</td>\n",
       "      <td>173.500000</td>\n",
       "      <td>8.000000</td>\n",
       "      <td>67.000000</td>\n",
       "      <td>12.000000</td>\n",
       "      <td>...</td>\n",
       "      <td>6.000000</td>\n",
       "      <td>0.000000</td>\n",
       "      <td>0.000000</td>\n",
       "      <td>0.000000</td>\n",
       "      <td>0.000000</td>\n",
       "      <td>0.000000</td>\n",
       "      <td>0.000000</td>\n",
       "      <td>3.0</td>\n",
       "      <td>11.0</td>\n",
       "      <td>0.000000</td>\n",
       "    </tr>\n",
       "    <tr>\n",
       "      <th>75%</th>\n",
       "      <td>8427.750000</td>\n",
       "      <td>1977.000000</td>\n",
       "      <td>68522.000000</td>\n",
       "      <td>1.000000</td>\n",
       "      <td>1.000000</td>\n",
       "      <td>74.000000</td>\n",
       "      <td>504.250000</td>\n",
       "      <td>33.000000</td>\n",
       "      <td>232.000000</td>\n",
       "      <td>50.000000</td>\n",
       "      <td>...</td>\n",
       "      <td>7.000000</td>\n",
       "      <td>0.000000</td>\n",
       "      <td>0.000000</td>\n",
       "      <td>0.000000</td>\n",
       "      <td>0.000000</td>\n",
       "      <td>0.000000</td>\n",
       "      <td>0.000000</td>\n",
       "      <td>3.0</td>\n",
       "      <td>11.0</td>\n",
       "      <td>0.000000</td>\n",
       "    </tr>\n",
       "    <tr>\n",
       "      <th>max</th>\n",
       "      <td>11191.000000</td>\n",
       "      <td>1996.000000</td>\n",
       "      <td>666666.000000</td>\n",
       "      <td>2.000000</td>\n",
       "      <td>2.000000</td>\n",
       "      <td>99.000000</td>\n",
       "      <td>1493.000000</td>\n",
       "      <td>199.000000</td>\n",
       "      <td>1725.000000</td>\n",
       "      <td>259.000000</td>\n",
       "      <td>...</td>\n",
       "      <td>20.000000</td>\n",
       "      <td>1.000000</td>\n",
       "      <td>1.000000</td>\n",
       "      <td>1.000000</td>\n",
       "      <td>1.000000</td>\n",
       "      <td>1.000000</td>\n",
       "      <td>1.000000</td>\n",
       "      <td>3.0</td>\n",
       "      <td>11.0</td>\n",
       "      <td>1.000000</td>\n",
       "    </tr>\n",
       "  </tbody>\n",
       "</table>\n",
       "<p>8 rows × 26 columns</p>\n",
       "</div>"
      ],
      "text/plain": [
       "           ClientID    BirthYear   AnnualIncome  ChildrenAtHome  TeensAtHome  \\\n",
       "count   2240.000000  2240.000000    2216.000000     2240.000000  2240.000000   \n",
       "mean    5592.159821  1968.805804   52247.251354        0.444196     0.506250   \n",
       "std     3246.662198    11.984069   25173.076661        0.538398     0.544538   \n",
       "min        0.000000  1893.000000    1730.000000        0.000000     0.000000   \n",
       "25%     2828.250000  1959.000000   35303.000000        0.000000     0.000000   \n",
       "50%     5458.500000  1970.000000   51381.500000        0.000000     0.000000   \n",
       "75%     8427.750000  1977.000000   68522.000000        1.000000     1.000000   \n",
       "max    11191.000000  1996.000000  666666.000000        2.000000     2.000000   \n",
       "\n",
       "       LastPurchaseDays  WineSpending  FruitSpending  MeatSpending  \\\n",
       "count       2240.000000   2240.000000    2240.000000   2240.000000   \n",
       "mean          49.109375    303.935714      26.302232    166.950000   \n",
       "std           28.962453    336.597393      39.773434    225.715373   \n",
       "min            0.000000      0.000000       0.000000      0.000000   \n",
       "25%           24.000000     23.750000       1.000000     16.000000   \n",
       "50%           49.000000    173.500000       8.000000     67.000000   \n",
       "75%           74.000000    504.250000      33.000000    232.000000   \n",
       "max           99.000000   1493.000000     199.000000   1725.000000   \n",
       "\n",
       "       FishSpending  ...  WebVisitsMonth  Campaign3Success  Campaign4Success  \\\n",
       "count   2240.000000  ...     2240.000000       2240.000000       2240.000000   \n",
       "mean      37.525446  ...        5.316518          0.072768          0.074554   \n",
       "std       54.628979  ...        2.426645          0.259813          0.262728   \n",
       "min        0.000000  ...        0.000000          0.000000          0.000000   \n",
       "25%        3.000000  ...        3.000000          0.000000          0.000000   \n",
       "50%       12.000000  ...        6.000000          0.000000          0.000000   \n",
       "75%       50.000000  ...        7.000000          0.000000          0.000000   \n",
       "max      259.000000  ...       20.000000          1.000000          1.000000   \n",
       "\n",
       "       Campaign5Success  Campaign1Success  Campaign2Success  RecentComplaint  \\\n",
       "count       2240.000000       2240.000000       2240.000000      2240.000000   \n",
       "mean           0.072768          0.064286          0.013393         0.009375   \n",
       "std            0.259813          0.245316          0.114976         0.096391   \n",
       "min            0.000000          0.000000          0.000000         0.000000   \n",
       "25%            0.000000          0.000000          0.000000         0.000000   \n",
       "50%            0.000000          0.000000          0.000000         0.000000   \n",
       "75%            0.000000          0.000000          0.000000         0.000000   \n",
       "max            1.000000          1.000000          1.000000         1.000000   \n",
       "\n",
       "         Z_CC     Z_R  LastCampaignResponse  \n",
       "count  2240.0  2240.0           2240.000000  \n",
       "mean      3.0    11.0              0.149107  \n",
       "std       0.0     0.0              0.356274  \n",
       "min       3.0    11.0              0.000000  \n",
       "25%       3.0    11.0              0.000000  \n",
       "50%       3.0    11.0              0.000000  \n",
       "75%       3.0    11.0              0.000000  \n",
       "max       3.0    11.0              1.000000  \n",
       "\n",
       "[8 rows x 26 columns]"
      ]
     },
     "execution_count": 843,
     "metadata": {},
     "output_type": "execute_result"
    }
   ],
   "source": [
    "data.describe()"
   ]
  },
  {
   "cell_type": "code",
   "execution_count": 844,
   "metadata": {},
   "outputs": [
    {
     "name": "stdout",
     "output_type": "stream",
     "text": [
      "<class 'pandas.core.frame.DataFrame'>\n",
      "RangeIndex: 2240 entries, 0 to 2239\n",
      "Data columns (total 29 columns):\n",
      " #   Column                Non-Null Count  Dtype  \n",
      "---  ------                --------------  -----  \n",
      " 0   ClientID              2240 non-null   int64  \n",
      " 1   BirthYear             2240 non-null   int64  \n",
      " 2   AcademicLevel         2240 non-null   object \n",
      " 3   RelationshipStatus    2240 non-null   object \n",
      " 4   AnnualIncome          2216 non-null   float64\n",
      " 5   ChildrenAtHome        2240 non-null   int64  \n",
      " 6   TeensAtHome           2240 non-null   int64  \n",
      " 7   EnrollmentDate        2240 non-null   object \n",
      " 8   LastPurchaseDays      2240 non-null   int64  \n",
      " 9   WineSpending          2240 non-null   int64  \n",
      " 10  FruitSpending         2240 non-null   int64  \n",
      " 11  MeatSpending          2240 non-null   int64  \n",
      " 12  FishSpending          2240 non-null   int64  \n",
      " 13  SweetSpending         2240 non-null   int64  \n",
      " 14  GoldSpending          2240 non-null   int64  \n",
      " 15  DiscountedPurchases   2240 non-null   int64  \n",
      " 16  WebPurchases          2240 non-null   int64  \n",
      " 17  CatalogPurchases      2240 non-null   int64  \n",
      " 18  StorePurchases        2240 non-null   int64  \n",
      " 19  WebVisitsMonth        2240 non-null   int64  \n",
      " 20  Campaign3Success      2240 non-null   int64  \n",
      " 21  Campaign4Success      2240 non-null   int64  \n",
      " 22  Campaign5Success      2240 non-null   int64  \n",
      " 23  Campaign1Success      2240 non-null   int64  \n",
      " 24  Campaign2Success      2240 non-null   int64  \n",
      " 25  RecentComplaint       2240 non-null   int64  \n",
      " 26  Z_CC                  2240 non-null   int64  \n",
      " 27  Z_R                   2240 non-null   int64  \n",
      " 28  LastCampaignResponse  2240 non-null   int64  \n",
      "dtypes: float64(1), int64(25), object(3)\n",
      "memory usage: 507.6+ KB\n"
     ]
    }
   ],
   "source": [
    "data.info()"
   ]
  },
  {
   "cell_type": "markdown",
   "metadata": {},
   "source": [
    "**Takeaway:**\n",
    "- We have `3 categorical` variables and `26 numerical` values\n",
    "- We have missing values for `AnnualIncome` Variable.\n",
    "- `EnrollmentDate` is in `object` format."
   ]
  },
  {
   "cell_type": "code",
   "execution_count": 845,
   "metadata": {},
   "outputs": [],
   "source": [
    "# Checking for missing values"
   ]
  },
  {
   "cell_type": "code",
   "execution_count": 846,
   "metadata": {},
   "outputs": [
    {
     "data": {
      "text/plain": [
       "ClientID                 0\n",
       "BirthYear                0\n",
       "AcademicLevel            0\n",
       "RelationshipStatus       0\n",
       "AnnualIncome            24\n",
       "ChildrenAtHome           0\n",
       "TeensAtHome              0\n",
       "EnrollmentDate           0\n",
       "LastPurchaseDays         0\n",
       "WineSpending             0\n",
       "FruitSpending            0\n",
       "MeatSpending             0\n",
       "FishSpending             0\n",
       "SweetSpending            0\n",
       "GoldSpending             0\n",
       "DiscountedPurchases      0\n",
       "WebPurchases             0\n",
       "CatalogPurchases         0\n",
       "StorePurchases           0\n",
       "WebVisitsMonth           0\n",
       "Campaign3Success         0\n",
       "Campaign4Success         0\n",
       "Campaign5Success         0\n",
       "Campaign1Success         0\n",
       "Campaign2Success         0\n",
       "RecentComplaint          0\n",
       "Z_CC                     0\n",
       "Z_R                      0\n",
       "LastCampaignResponse     0\n",
       "dtype: int64"
      ]
     },
     "execution_count": 846,
     "metadata": {},
     "output_type": "execute_result"
    }
   ],
   "source": [
    "data.isnull().sum()"
   ]
  },
  {
   "cell_type": "markdown",
   "metadata": {},
   "source": [
    "`AnnualIncome`  has `24` null values "
   ]
  },
  {
   "cell_type": "code",
   "execution_count": 847,
   "metadata": {},
   "outputs": [
    {
     "data": {
      "text/plain": [
       "count      2216.000000\n",
       "mean      52247.251354\n",
       "std       25173.076661\n",
       "min        1730.000000\n",
       "25%       35303.000000\n",
       "50%       51381.500000\n",
       "75%       68522.000000\n",
       "max      666666.000000\n",
       "Name: AnnualIncome, dtype: float64"
      ]
     },
     "execution_count": 847,
     "metadata": {},
     "output_type": "execute_result"
    }
   ],
   "source": [
    "data['AnnualIncome'].describe()"
   ]
  },
  {
   "cell_type": "code",
   "execution_count": 848,
   "metadata": {},
   "outputs": [
    {
     "data": {
      "text/plain": [
       "7500.0"
      ]
     },
     "execution_count": 848,
     "metadata": {},
     "output_type": "execute_result"
    }
   ],
   "source": [
    "mode_value = data['AnnualIncome'].mode()[0]\n",
    "mode_value"
   ]
  },
  {
   "cell_type": "code",
   "execution_count": 849,
   "metadata": {},
   "outputs": [
    {
     "data": {
      "image/png": "[encoded data removed]",
      "text/plain": [
       "<Figure size 640x480 with 1 Axes>"
      ]
     },
     "metadata": {},
     "output_type": "display_data"
    }
   ],
   "source": [
    "data['AnnualIncome_mean'] = data['AnnualIncome'].fillna(data['AnnualIncome'].mean()) # filling with missing value\n",
    "data['AnnualIncome_mode'] = data['AnnualIncome'].fillna(mode_value) #filling with mode value\n",
    "data['AnnualIncome_median'] = data['AnnualIncome'].fillna(data['AnnualIncome'].median())#filling with median value\n",
    "fig  = plt.figure()\n",
    "ax = fig.add_subplot(111)\n",
    "data['AnnualIncome'].plot(kind ='kde',ax  = ax ,color  =  'red')\n",
    "data['AnnualIncome_mean'].plot(kind ='kde',ax  = ax ,color  =  'blue')\n",
    "data['AnnualIncome_mode'].plot(kind ='kde',ax  = ax ,color  =  'green')\n",
    "data['AnnualIncome_median'].plot(kind ='kde',ax  = ax ,color  =  'pink')\n",
    "data['AnnualIncome'] = data['AnnualIncome'].fillna(mode_value)\n",
    "plt.show()"
   ]
  },
  {
   "cell_type": "markdown",
   "metadata": {},
   "source": [
    "After conducting a comparative analysis by plotting graphs with missing values filled using mean,\n",
    "mode, and median imputation techniques, it was determined that mode imputation yielded the most\n",
    "accurate results due to complete overlap. Consequently, we will proceed with \n",
    "filling missing values utilizing the mode value"
   ]
  },
  {
   "cell_type": "code",
   "execution_count": 850,
   "metadata": {},
   "outputs": [
    {
     "data": {
      "text/html": [
       "<div>\n",
       "<style scoped>\n",
       "    .dataframe tbody tr th:only-of-type {\n",
       "        vertical-align: middle;\n",
       "    }\n",
       "\n",
       "    .dataframe tbody tr th {\n",
       "        vertical-align: top;\n",
       "    }\n",
       "\n",
       "    .dataframe thead th {\n",
       "        text-align: right;\n",
       "    }\n",
       "</style>\n",
       "<table border=\"1\" class=\"dataframe\">\n",
       "  <thead>\n",
       "    <tr style=\"text-align: right;\">\n",
       "      <th></th>\n",
       "      <th>ClientID</th>\n",
       "      <th>BirthYear</th>\n",
       "      <th>AcademicLevel</th>\n",
       "      <th>RelationshipStatus</th>\n",
       "      <th>AnnualIncome</th>\n",
       "      <th>ChildrenAtHome</th>\n",
       "      <th>TeensAtHome</th>\n",
       "      <th>EnrollmentDate</th>\n",
       "      <th>LastPurchaseDays</th>\n",
       "      <th>WineSpending</th>\n",
       "      <th>...</th>\n",
       "      <th>WebVisitsMonth</th>\n",
       "      <th>Campaign3Success</th>\n",
       "      <th>Campaign4Success</th>\n",
       "      <th>Campaign5Success</th>\n",
       "      <th>Campaign1Success</th>\n",
       "      <th>Campaign2Success</th>\n",
       "      <th>RecentComplaint</th>\n",
       "      <th>Z_CC</th>\n",
       "      <th>Z_R</th>\n",
       "      <th>LastCampaignResponse</th>\n",
       "    </tr>\n",
       "  </thead>\n",
       "  <tbody>\n",
       "    <tr>\n",
       "      <th>0</th>\n",
       "      <td>5524</td>\n",
       "      <td>1957</td>\n",
       "      <td>Graduation</td>\n",
       "      <td>Single</td>\n",
       "      <td>58138.0</td>\n",
       "      <td>0</td>\n",
       "      <td>0</td>\n",
       "      <td>04-09-2012</td>\n",
       "      <td>58</td>\n",
       "      <td>635</td>\n",
       "      <td>...</td>\n",
       "      <td>7</td>\n",
       "      <td>0</td>\n",
       "      <td>0</td>\n",
       "      <td>0</td>\n",
       "      <td>0</td>\n",
       "      <td>0</td>\n",
       "      <td>0</td>\n",
       "      <td>3</td>\n",
       "      <td>11</td>\n",
       "      <td>1</td>\n",
       "    </tr>\n",
       "    <tr>\n",
       "      <th>1</th>\n",
       "      <td>2174</td>\n",
       "      <td>1954</td>\n",
       "      <td>Graduation</td>\n",
       "      <td>Single</td>\n",
       "      <td>46344.0</td>\n",
       "      <td>1</td>\n",
       "      <td>1</td>\n",
       "      <td>08-03-2014</td>\n",
       "      <td>38</td>\n",
       "      <td>11</td>\n",
       "      <td>...</td>\n",
       "      <td>5</td>\n",
       "      <td>0</td>\n",
       "      <td>0</td>\n",
       "      <td>0</td>\n",
       "      <td>0</td>\n",
       "      <td>0</td>\n",
       "      <td>0</td>\n",
       "      <td>3</td>\n",
       "      <td>11</td>\n",
       "      <td>0</td>\n",
       "    </tr>\n",
       "    <tr>\n",
       "      <th>2</th>\n",
       "      <td>4141</td>\n",
       "      <td>1965</td>\n",
       "      <td>Graduation</td>\n",
       "      <td>Together</td>\n",
       "      <td>71613.0</td>\n",
       "      <td>0</td>\n",
       "      <td>0</td>\n",
       "      <td>21-08-2013</td>\n",
       "      <td>26</td>\n",
       "      <td>426</td>\n",
       "      <td>...</td>\n",
       "      <td>4</td>\n",
       "      <td>0</td>\n",
       "      <td>0</td>\n",
       "      <td>0</td>\n",
       "      <td>0</td>\n",
       "      <td>0</td>\n",
       "      <td>0</td>\n",
       "      <td>3</td>\n",
       "      <td>11</td>\n",
       "      <td>0</td>\n",
       "    </tr>\n",
       "    <tr>\n",
       "      <th>3</th>\n",
       "      <td>6182</td>\n",
       "      <td>1984</td>\n",
       "      <td>Graduation</td>\n",
       "      <td>Together</td>\n",
       "      <td>26646.0</td>\n",
       "      <td>1</td>\n",
       "      <td>0</td>\n",
       "      <td>10-02-2014</td>\n",
       "      <td>26</td>\n",
       "      <td>11</td>\n",
       "      <td>...</td>\n",
       "      <td>6</td>\n",
       "      <td>0</td>\n",
       "      <td>0</td>\n",
       "      <td>0</td>\n",
       "      <td>0</td>\n",
       "      <td>0</td>\n",
       "      <td>0</td>\n",
       "      <td>3</td>\n",
       "      <td>11</td>\n",
       "      <td>0</td>\n",
       "    </tr>\n",
       "    <tr>\n",
       "      <th>4</th>\n",
       "      <td>5324</td>\n",
       "      <td>1981</td>\n",
       "      <td>PhD</td>\n",
       "      <td>Married</td>\n",
       "      <td>58293.0</td>\n",
       "      <td>1</td>\n",
       "      <td>0</td>\n",
       "      <td>19-01-2014</td>\n",
       "      <td>94</td>\n",
       "      <td>173</td>\n",
       "      <td>...</td>\n",
       "      <td>5</td>\n",
       "      <td>0</td>\n",
       "      <td>0</td>\n",
       "      <td>0</td>\n",
       "      <td>0</td>\n",
       "      <td>0</td>\n",
       "      <td>0</td>\n",
       "      <td>3</td>\n",
       "      <td>11</td>\n",
       "      <td>0</td>\n",
       "    </tr>\n",
       "    <tr>\n",
       "      <th>...</th>\n",
       "      <td>...</td>\n",
       "      <td>...</td>\n",
       "      <td>...</td>\n",
       "      <td>...</td>\n",
       "      <td>...</td>\n",
       "      <td>...</td>\n",
       "      <td>...</td>\n",
       "      <td>...</td>\n",
       "      <td>...</td>\n",
       "      <td>...</td>\n",
       "      <td>...</td>\n",
       "      <td>...</td>\n",
       "      <td>...</td>\n",
       "      <td>...</td>\n",
       "      <td>...</td>\n",
       "      <td>...</td>\n",
       "      <td>...</td>\n",
       "      <td>...</td>\n",
       "      <td>...</td>\n",
       "      <td>...</td>\n",
       "      <td>...</td>\n",
       "    </tr>\n",
       "    <tr>\n",
       "      <th>2235</th>\n",
       "      <td>10870</td>\n",
       "      <td>1967</td>\n",
       "      <td>Graduation</td>\n",
       "      <td>Married</td>\n",
       "      <td>61223.0</td>\n",
       "      <td>0</td>\n",
       "      <td>1</td>\n",
       "      <td>13-06-2013</td>\n",
       "      <td>46</td>\n",
       "      <td>709</td>\n",
       "      <td>...</td>\n",
       "      <td>5</td>\n",
       "      <td>0</td>\n",
       "      <td>0</td>\n",
       "      <td>0</td>\n",
       "      <td>0</td>\n",
       "      <td>0</td>\n",
       "      <td>0</td>\n",
       "      <td>3</td>\n",
       "      <td>11</td>\n",
       "      <td>0</td>\n",
       "    </tr>\n",
       "    <tr>\n",
       "      <th>2236</th>\n",
       "      <td>4001</td>\n",
       "      <td>1946</td>\n",
       "      <td>PhD</td>\n",
       "      <td>Together</td>\n",
       "      <td>64014.0</td>\n",
       "      <td>2</td>\n",
       "      <td>1</td>\n",
       "      <td>10-06-2014</td>\n",
       "      <td>56</td>\n",
       "      <td>406</td>\n",
       "      <td>...</td>\n",
       "      <td>7</td>\n",
       "      <td>0</td>\n",
       "      <td>0</td>\n",
       "      <td>0</td>\n",
       "      <td>1</td>\n",
       "      <td>0</td>\n",
       "      <td>0</td>\n",
       "      <td>3</td>\n",
       "      <td>11</td>\n",
       "      <td>0</td>\n",
       "    </tr>\n",
       "    <tr>\n",
       "      <th>2237</th>\n",
       "      <td>7270</td>\n",
       "      <td>1981</td>\n",
       "      <td>Graduation</td>\n",
       "      <td>Divorced</td>\n",
       "      <td>56981.0</td>\n",
       "      <td>0</td>\n",
       "      <td>0</td>\n",
       "      <td>25-01-2014</td>\n",
       "      <td>91</td>\n",
       "      <td>908</td>\n",
       "      <td>...</td>\n",
       "      <td>6</td>\n",
       "      <td>0</td>\n",
       "      <td>1</td>\n",
       "      <td>0</td>\n",
       "      <td>0</td>\n",
       "      <td>0</td>\n",
       "      <td>0</td>\n",
       "      <td>3</td>\n",
       "      <td>11</td>\n",
       "      <td>0</td>\n",
       "    </tr>\n",
       "    <tr>\n",
       "      <th>2238</th>\n",
       "      <td>8235</td>\n",
       "      <td>1956</td>\n",
       "      <td>Master</td>\n",
       "      <td>Together</td>\n",
       "      <td>69245.0</td>\n",
       "      <td>0</td>\n",
       "      <td>1</td>\n",
       "      <td>24-01-2014</td>\n",
       "      <td>8</td>\n",
       "      <td>428</td>\n",
       "      <td>...</td>\n",
       "      <td>3</td>\n",
       "      <td>0</td>\n",
       "      <td>0</td>\n",
       "      <td>0</td>\n",
       "      <td>0</td>\n",
       "      <td>0</td>\n",
       "      <td>0</td>\n",
       "      <td>3</td>\n",
       "      <td>11</td>\n",
       "      <td>0</td>\n",
       "    </tr>\n",
       "    <tr>\n",
       "      <th>2239</th>\n",
       "      <td>9405</td>\n",
       "      <td>1954</td>\n",
       "      <td>PhD</td>\n",
       "      <td>Married</td>\n",
       "      <td>52869.0</td>\n",
       "      <td>1</td>\n",
       "      <td>1</td>\n",
       "      <td>15-10-2012</td>\n",
       "      <td>40</td>\n",
       "      <td>84</td>\n",
       "      <td>...</td>\n",
       "      <td>7</td>\n",
       "      <td>0</td>\n",
       "      <td>0</td>\n",
       "      <td>0</td>\n",
       "      <td>0</td>\n",
       "      <td>0</td>\n",
       "      <td>0</td>\n",
       "      <td>3</td>\n",
       "      <td>11</td>\n",
       "      <td>1</td>\n",
       "    </tr>\n",
       "  </tbody>\n",
       "</table>\n",
       "<p>2240 rows × 29 columns</p>\n",
       "</div>"
      ],
      "text/plain": [
       "      ClientID  BirthYear AcademicLevel RelationshipStatus  AnnualIncome  \\\n",
       "0         5524       1957    Graduation             Single       58138.0   \n",
       "1         2174       1954    Graduation             Single       46344.0   \n",
       "2         4141       1965    Graduation           Together       71613.0   \n",
       "3         6182       1984    Graduation           Together       26646.0   \n",
       "4         5324       1981           PhD            Married       58293.0   \n",
       "...        ...        ...           ...                ...           ...   \n",
       "2235     10870       1967    Graduation            Married       61223.0   \n",
       "2236      4001       1946           PhD           Together       64014.0   \n",
       "2237      7270       1981    Graduation           Divorced       56981.0   \n",
       "2238      8235       1956        Master           Together       69245.0   \n",
       "2239      9405       1954           PhD            Married       52869.0   \n",
       "\n",
       "      ChildrenAtHome  TeensAtHome EnrollmentDate  LastPurchaseDays  \\\n",
       "0                  0            0     04-09-2012                58   \n",
       "1                  1            1     08-03-2014                38   \n",
       "2                  0            0     21-08-2013                26   \n",
       "3                  1            0     10-02-2014                26   \n",
       "4                  1            0     19-01-2014                94   \n",
       "...              ...          ...            ...               ...   \n",
       "2235               0            1     13-06-2013                46   \n",
       "2236               2            1     10-06-2014                56   \n",
       "2237               0            0     25-01-2014                91   \n",
       "2238               0            1     24-01-2014                 8   \n",
       "2239               1            1     15-10-2012                40   \n",
       "\n",
       "      WineSpending  ...  WebVisitsMonth  Campaign3Success  Campaign4Success  \\\n",
       "0              635  ...               7                 0                 0   \n",
       "1               11  ...               5                 0                 0   \n",
       "2              426  ...               4                 0                 0   \n",
       "3               11  ...               6                 0                 0   \n",
       "4              173  ...               5                 0                 0   \n",
       "...            ...  ...             ...               ...               ...   \n",
       "2235           709  ...               5                 0                 0   \n",
       "2236           406  ...               7                 0                 0   \n",
       "2237           908  ...               6                 0                 1   \n",
       "2238           428  ...               3                 0                 0   \n",
       "2239            84  ...               7                 0                 0   \n",
       "\n",
       "      Campaign5Success  Campaign1Success  Campaign2Success  RecentComplaint  \\\n",
       "0                    0                 0                 0                0   \n",
       "1                    0                 0                 0                0   \n",
       "2                    0                 0                 0                0   \n",
       "3                    0                 0                 0                0   \n",
       "4                    0                 0                 0                0   \n",
       "...                ...               ...               ...              ...   \n",
       "2235                 0                 0                 0                0   \n",
       "2236                 0                 1                 0                0   \n",
       "2237                 0                 0                 0                0   \n",
       "2238                 0                 0                 0                0   \n",
       "2239                 0                 0                 0                0   \n",
       "\n",
       "      Z_CC  Z_R  LastCampaignResponse  \n",
       "0        3   11                     1  \n",
       "1        3   11                     0  \n",
       "2        3   11                     0  \n",
       "3        3   11                     0  \n",
       "4        3   11                     0  \n",
       "...    ...  ...                   ...  \n",
       "2235     3   11                     0  \n",
       "2236     3   11                     0  \n",
       "2237     3   11                     0  \n",
       "2238     3   11                     0  \n",
       "2239     3   11                     1  \n",
       "\n",
       "[2240 rows x 29 columns]"
      ]
     },
     "execution_count": 850,
     "metadata": {},
     "output_type": "execute_result"
    }
   ],
   "source": [
    "data = data.drop(columns =['AnnualIncome_mean','AnnualIncome_mode','AnnualIncome_median'])\n",
    "data"
   ]
  },
  {
   "cell_type": "code",
   "execution_count": 851,
   "metadata": {},
   "outputs": [],
   "source": [
    "# Change EnrollmentDate into suitable format"
   ]
  },
  {
   "cell_type": "code",
   "execution_count": 852,
   "metadata": {},
   "outputs": [
    {
     "name": "stdout",
     "output_type": "stream",
     "text": [
      "<class 'pandas.core.frame.DataFrame'>\n",
      "RangeIndex: 2240 entries, 0 to 2239\n",
      "Data columns (total 29 columns):\n",
      " #   Column                Non-Null Count  Dtype  \n",
      "---  ------                --------------  -----  \n",
      " 0   ClientID              2240 non-null   int64  \n",
      " 1   BirthYear             2240 non-null   int64  \n",
      " 2   AcademicLevel         2240 non-null   object \n",
      " 3   RelationshipStatus    2240 non-null   object \n",
      " 4   AnnualIncome          2240 non-null   float64\n",
      " 5   ChildrenAtHome        2240 non-null   int64  \n",
      " 6   TeensAtHome           2240 non-null   int64  \n",
      " 7   EnrollmentDate        2240 non-null   object \n",
      " 8   LastPurchaseDays      2240 non-null   int64  \n",
      " 9   WineSpending          2240 non-null   int64  \n",
      " 10  FruitSpending         2240 non-null   int64  \n",
      " 11  MeatSpending          2240 non-null   int64  \n",
      " 12  FishSpending          2240 non-null   int64  \n",
      " 13  SweetSpending         2240 non-null   int64  \n",
      " 14  GoldSpending          2240 non-null   int64  \n",
      " 15  DiscountedPurchases   2240 non-null   int64  \n",
      " 16  WebPurchases          2240 non-null   int64  \n",
      " 17  CatalogPurchases      2240 non-null   int64  \n",
      " 18  StorePurchases        2240 non-null   int64  \n",
      " 19  WebVisitsMonth        2240 non-null   int64  \n",
      " 20  Campaign3Success      2240 non-null   int64  \n",
      " 21  Campaign4Success      2240 non-null   int64  \n",
      " 22  Campaign5Success      2240 non-null   int64  \n",
      " 23  Campaign1Success      2240 non-null   int64  \n",
      " 24  Campaign2Success      2240 non-null   int64  \n",
      " 25  RecentComplaint       2240 non-null   int64  \n",
      " 26  Z_CC                  2240 non-null   int64  \n",
      " 27  Z_R                   2240 non-null   int64  \n",
      " 28  LastCampaignResponse  2240 non-null   int64  \n",
      "dtypes: float64(1), int64(25), object(3)\n",
      "memory usage: 507.6+ KB\n"
     ]
    }
   ],
   "source": [
    "data.info()"
   ]
  },
  {
   "cell_type": "code",
   "execution_count": 853,
   "metadata": {},
   "outputs": [
    {
     "data": {
      "text/plain": [
       "0    04-09-2012\n",
       "1    08-03-2014\n",
       "2    21-08-2013\n",
       "3    10-02-2014\n",
       "4    19-01-2014\n",
       "Name: EnrollmentDate, dtype: object"
      ]
     },
     "execution_count": 853,
     "metadata": {},
     "output_type": "execute_result"
    }
   ],
   "source": [
    "data['EnrollmentDate'].head()"
   ]
  },
  {
   "cell_type": "markdown",
   "metadata": {},
   "source": [
    "current datatype of EnrollmentDate is object type"
   ]
  },
  {
   "cell_type": "code",
   "execution_count": 854,
   "metadata": {},
   "outputs": [
    {
     "name": "stdout",
     "output_type": "stream",
     "text": [
      "<class 'pandas.core.series.Series'>\n",
      "RangeIndex: 2240 entries, 0 to 2239\n",
      "Series name: EnrollmentDate\n",
      "Non-Null Count  Dtype         \n",
      "--------------  -----         \n",
      "2240 non-null   datetime64[ns]\n",
      "dtypes: datetime64[ns](1)\n",
      "memory usage: 17.6 KB\n"
     ]
    }
   ],
   "source": [
    "data['EnrollmentDate'] =  pd.to_datetime(data['EnrollmentDate'],format='mixed')\n",
    "data['EnrollmentDate'].info()"
   ]
  },
  {
   "cell_type": "code",
   "execution_count": 855,
   "metadata": {},
   "outputs": [
    {
     "data": {
      "text/plain": [
       "0   2012-04-09\n",
       "1   2014-08-03\n",
       "2   2013-08-21\n",
       "3   2014-10-02\n",
       "4   2014-01-19\n",
       "Name: EnrollmentDate, dtype: datetime64[ns]"
      ]
     },
     "execution_count": 855,
     "metadata": {},
     "output_type": "execute_result"
    }
   ],
   "source": [
    "data['EnrollmentDate'].head()"
   ]
  },
  {
   "cell_type": "markdown",
   "metadata": {},
   "source": [
    "now EnrollmentDate is in timedate formate and we can extract day, month and year as a  separate column"
   ]
  },
  {
   "cell_type": "code",
   "execution_count": 856,
   "metadata": {},
   "outputs": [],
   "source": [
    "# Check for homogeneity in feature values, drop any feature if they do not hold any discriminatory power."
   ]
  },
  {
   "cell_type": "markdown",
   "metadata": {},
   "source": [
    "### FEATURE ENGINEERING"
   ]
  },
  {
   "cell_type": "markdown",
   "metadata": {},
   "source": [
    "- We will create a new column `Age` by subtracting `BirthYear` from the current year.\n",
    "<!-- - We will convert `AcademicLevel` values to Undergraduate and Postgraduate. -->\n",
    "- We will create a new column `Children` by adding `ChildrenAtHome` and `TeensAtHome`.\n",
    "- We will create a new column `TotalSpent` by adding all the `Spending` columns.\n",
    "- We will create a new column `TotalPurchases` by adding all the `Purchases` columns.\n",
    "- We will create a new column `TotalSuccessfulCampaigns` by adding all the `Campaign Success` columns.\n",
    "- We will create a new column `CustomerSince` by subtracting `EnrollmentDate` from the current date.\n",
    "- We will create a new column `IsParent` by converting the `Children` column to `1` and `0`.\n",
    "- We will convert `RelationshipStatus` to `Relationship` and `Single`.\n"
   ]
  },
  {
   "cell_type": "code",
   "execution_count": 857,
   "metadata": {},
   "outputs": [],
   "source": [
    "# create a new column `Age` by subtracting `BirthYear` from the current year.\n",
    "\n",
    "data['Age'] = 2024 - data['BirthYear']\n"
   ]
  },
  {
   "cell_type": "code",
   "execution_count": 858,
   "metadata": {},
   "outputs": [],
   "source": [
    "# Convert AcademicLevel values to Undergraduate and Postgraduate.\n",
    "\n",
    "# data['AcademicLevel'] = data['AcademicLevel'].replace(['Graduation', 'PhD', 'Master', '2n Cycle'], \"Post Graduate\")\n",
    "# data['AcademicLevel'] = data['AcademicLevel'].replace([\"Basic\"], \"Under Graduate\")\n"
   ]
  },
  {
   "cell_type": "code",
   "execution_count": 859,
   "metadata": {},
   "outputs": [],
   "source": [
    "# Converting RelationshipStatus to Understandable Format\n",
    "data[\"RelationshipStatus\"] = data[\"RelationshipStatus\"].replace(['Single', 'Divorced', 'Widow', 'Alone','Absurd', 'YOLO'], \"Single\")\n",
    "data[\"RelationshipStatus\"] = data[\"RelationshipStatus\"].replace([\"Married\", \"Together\"], \"Relationship\")"
   ]
  },
  {
   "cell_type": "code",
   "execution_count": 860,
   "metadata": {},
   "outputs": [],
   "source": [
    "# Creating a new column 'TotalSpent'\n",
    "data['TotalSpent'] = data['WineSpending'] + data['FruitSpending'] + data['MeatSpending'] + data['FishSpending'] + data['SweetSpending'] + data['GoldSpending']\n"
   ]
  },
  {
   "cell_type": "code",
   "execution_count": 861,
   "metadata": {},
   "outputs": [],
   "source": [
    "# Converting RelationshipStatus to Understandable Format\n",
    "data[\"RelationshipStatus\"] = data[\"RelationshipStatus\"].replace(['Single', 'Divorced', 'Widow', 'Alone','Absurd', 'YOLO'], \"Single\")\n",
    "data[\"RelationshipStatus\"] = data[\"RelationshipStatus\"].replace([\"Married\", \"Together\"], \"Relationship\")\n"
   ]
  },
  {
   "cell_type": "code",
   "execution_count": 862,
   "metadata": {},
   "outputs": [],
   "source": [
    "# Creating a new column 'TotalSpent'\n",
    "data['TotalSpent'] = data['WineSpending'] + data['FruitSpending'] + data['MeatSpending'] + data['FishSpending'] + data['SweetSpending'] + data['GoldSpending']"
   ]
  },
  {
   "cell_type": "code",
   "execution_count": 863,
   "metadata": {},
   "outputs": [],
   "source": [
    "# Creating a new column 'Children'\n",
    "data['Children'] = data['ChildrenAtHome'] + data['TeensAtHome']"
   ]
  },
  {
   "cell_type": "code",
   "execution_count": 864,
   "metadata": {},
   "outputs": [],
   "source": [
    "# CustomerSince column\n",
    "years = []\n",
    "for date in data['EnrollmentDate']:\n",
    "    years.append(2024 - date.year)\n",
    "data['CustomerSince'] = years  "
   ]
  },
  {
   "cell_type": "code",
   "execution_count": 865,
   "metadata": {},
   "outputs": [],
   "source": [
    "# TotalPurchases column\n",
    "data['TotalPurchases'] = data['DiscountedPurchases'] + data['WebPurchases'] + data['CatalogPurchases'] + data['StorePurchases']"
   ]
  },
  {
   "cell_type": "code",
   "execution_count": 866,
   "metadata": {},
   "outputs": [],
   "source": [
    "# TotalSuccessfulCampaignsSuccess column\n",
    "data['TotalSuccessfulCampaignsSuccess'] = data['Campaign1Success'] + data['Campaign2Success'] + data['Campaign3Success'] + data['Campaign4Success'] + data['Campaign5Success']"
   ]
  },
  {
   "cell_type": "code",
   "execution_count": 867,
   "metadata": {},
   "outputs": [],
   "source": [
    "# Is_Parent column\n",
    "data['Is_Parent'] = np.where(data['Children'] > 0, 1, 0)"
   ]
  },
  {
   "cell_type": "code",
   "execution_count": 868,
   "metadata": {},
   "outputs": [],
   "source": [
    "# Dropping unnecessary columns\n"
   ]
  },
  {
   "cell_type": "markdown",
   "metadata": {},
   "source": [
    "New DataFrame Overview:"
   ]
  },
  {
   "cell_type": "code",
   "execution_count": 869,
   "metadata": {},
   "outputs": [
    {
     "data": {
      "text/html": [
       "<div>\n",
       "<style scoped>\n",
       "    .dataframe tbody tr th:only-of-type {\n",
       "        vertical-align: middle;\n",
       "    }\n",
       "\n",
       "    .dataframe tbody tr th {\n",
       "        vertical-align: top;\n",
       "    }\n",
       "\n",
       "    .dataframe thead th {\n",
       "        text-align: right;\n",
       "    }\n",
       "</style>\n",
       "<table border=\"1\" class=\"dataframe\">\n",
       "  <thead>\n",
       "    <tr style=\"text-align: right;\">\n",
       "      <th></th>\n",
       "      <th>ClientID</th>\n",
       "      <th>BirthYear</th>\n",
       "      <th>AcademicLevel</th>\n",
       "      <th>RelationshipStatus</th>\n",
       "      <th>AnnualIncome</th>\n",
       "      <th>ChildrenAtHome</th>\n",
       "      <th>TeensAtHome</th>\n",
       "      <th>EnrollmentDate</th>\n",
       "      <th>LastPurchaseDays</th>\n",
       "      <th>WineSpending</th>\n",
       "      <th>...</th>\n",
       "      <th>Z_CC</th>\n",
       "      <th>Z_R</th>\n",
       "      <th>LastCampaignResponse</th>\n",
       "      <th>Age</th>\n",
       "      <th>TotalSpent</th>\n",
       "      <th>Children</th>\n",
       "      <th>CustomerSince</th>\n",
       "      <th>TotalPurchases</th>\n",
       "      <th>TotalSuccessfulCampaignsSuccess</th>\n",
       "      <th>Is_Parent</th>\n",
       "    </tr>\n",
       "  </thead>\n",
       "  <tbody>\n",
       "    <tr>\n",
       "      <th>0</th>\n",
       "      <td>5524</td>\n",
       "      <td>1957</td>\n",
       "      <td>Graduation</td>\n",
       "      <td>Single</td>\n",
       "      <td>58138.0</td>\n",
       "      <td>0</td>\n",
       "      <td>0</td>\n",
       "      <td>2012-04-09</td>\n",
       "      <td>58</td>\n",
       "      <td>635</td>\n",
       "      <td>...</td>\n",
       "      <td>3</td>\n",
       "      <td>11</td>\n",
       "      <td>1</td>\n",
       "      <td>67</td>\n",
       "      <td>1617</td>\n",
       "      <td>0</td>\n",
       "      <td>12</td>\n",
       "      <td>25</td>\n",
       "      <td>0</td>\n",
       "      <td>0</td>\n",
       "    </tr>\n",
       "    <tr>\n",
       "      <th>1</th>\n",
       "      <td>2174</td>\n",
       "      <td>1954</td>\n",
       "      <td>Graduation</td>\n",
       "      <td>Single</td>\n",
       "      <td>46344.0</td>\n",
       "      <td>1</td>\n",
       "      <td>1</td>\n",
       "      <td>2014-08-03</td>\n",
       "      <td>38</td>\n",
       "      <td>11</td>\n",
       "      <td>...</td>\n",
       "      <td>3</td>\n",
       "      <td>11</td>\n",
       "      <td>0</td>\n",
       "      <td>70</td>\n",
       "      <td>27</td>\n",
       "      <td>2</td>\n",
       "      <td>10</td>\n",
       "      <td>6</td>\n",
       "      <td>0</td>\n",
       "      <td>1</td>\n",
       "    </tr>\n",
       "    <tr>\n",
       "      <th>2</th>\n",
       "      <td>4141</td>\n",
       "      <td>1965</td>\n",
       "      <td>Graduation</td>\n",
       "      <td>Relationship</td>\n",
       "      <td>71613.0</td>\n",
       "      <td>0</td>\n",
       "      <td>0</td>\n",
       "      <td>2013-08-21</td>\n",
       "      <td>26</td>\n",
       "      <td>426</td>\n",
       "      <td>...</td>\n",
       "      <td>3</td>\n",
       "      <td>11</td>\n",
       "      <td>0</td>\n",
       "      <td>59</td>\n",
       "      <td>776</td>\n",
       "      <td>0</td>\n",
       "      <td>11</td>\n",
       "      <td>21</td>\n",
       "      <td>0</td>\n",
       "      <td>0</td>\n",
       "    </tr>\n",
       "    <tr>\n",
       "      <th>3</th>\n",
       "      <td>6182</td>\n",
       "      <td>1984</td>\n",
       "      <td>Graduation</td>\n",
       "      <td>Relationship</td>\n",
       "      <td>26646.0</td>\n",
       "      <td>1</td>\n",
       "      <td>0</td>\n",
       "      <td>2014-10-02</td>\n",
       "      <td>26</td>\n",
       "      <td>11</td>\n",
       "      <td>...</td>\n",
       "      <td>3</td>\n",
       "      <td>11</td>\n",
       "      <td>0</td>\n",
       "      <td>40</td>\n",
       "      <td>53</td>\n",
       "      <td>1</td>\n",
       "      <td>10</td>\n",
       "      <td>8</td>\n",
       "      <td>0</td>\n",
       "      <td>1</td>\n",
       "    </tr>\n",
       "    <tr>\n",
       "      <th>4</th>\n",
       "      <td>5324</td>\n",
       "      <td>1981</td>\n",
       "      <td>PhD</td>\n",
       "      <td>Relationship</td>\n",
       "      <td>58293.0</td>\n",
       "      <td>1</td>\n",
       "      <td>0</td>\n",
       "      <td>2014-01-19</td>\n",
       "      <td>94</td>\n",
       "      <td>173</td>\n",
       "      <td>...</td>\n",
       "      <td>3</td>\n",
       "      <td>11</td>\n",
       "      <td>0</td>\n",
       "      <td>43</td>\n",
       "      <td>422</td>\n",
       "      <td>1</td>\n",
       "      <td>10</td>\n",
       "      <td>19</td>\n",
       "      <td>0</td>\n",
       "      <td>1</td>\n",
       "    </tr>\n",
       "  </tbody>\n",
       "</table>\n",
       "<p>5 rows × 36 columns</p>\n",
       "</div>"
      ],
      "text/plain": [
       "   ClientID  BirthYear AcademicLevel RelationshipStatus  AnnualIncome  \\\n",
       "0      5524       1957    Graduation             Single       58138.0   \n",
       "1      2174       1954    Graduation             Single       46344.0   \n",
       "2      4141       1965    Graduation       Relationship       71613.0   \n",
       "3      6182       1984    Graduation       Relationship       26646.0   \n",
       "4      5324       1981           PhD       Relationship       58293.0   \n",
       "\n",
       "   ChildrenAtHome  TeensAtHome EnrollmentDate  LastPurchaseDays  WineSpending  \\\n",
       "0               0            0     2012-04-09                58           635   \n",
       "1               1            1     2014-08-03                38            11   \n",
       "2               0            0     2013-08-21                26           426   \n",
       "3               1            0     2014-10-02                26            11   \n",
       "4               1            0     2014-01-19                94           173   \n",
       "\n",
       "   ...  Z_CC  Z_R  LastCampaignResponse  Age  TotalSpent  Children  \\\n",
       "0  ...     3   11                     1   67        1617         0   \n",
       "1  ...     3   11                     0   70          27         2   \n",
       "2  ...     3   11                     0   59         776         0   \n",
       "3  ...     3   11                     0   40          53         1   \n",
       "4  ...     3   11                     0   43         422         1   \n",
       "\n",
       "   CustomerSince  TotalPurchases  TotalSuccessfulCampaignsSuccess  Is_Parent  \n",
       "0             12              25                                0          0  \n",
       "1             10               6                                0          1  \n",
       "2             11              21                                0          0  \n",
       "3             10               8                                0          1  \n",
       "4             10              19                                0          1  \n",
       "\n",
       "[5 rows x 36 columns]"
      ]
     },
     "execution_count": 869,
     "metadata": {},
     "output_type": "execute_result"
    }
   ],
   "source": [
    "data.head()"
   ]
  },
  {
   "cell_type": "markdown",
   "metadata": {},
   "source": [
    "### UNIVARIATE ANALYSIS"
   ]
  },
  {
   "cell_type": "code",
   "execution_count": 870,
   "metadata": {},
   "outputs": [],
   "source": [
    "# Plots For The Engineered Features"
   ]
  },
  {
   "cell_type": "code",
   "execution_count": 871,
   "metadata": {},
   "outputs": [
    {
     "data": {
      "text/plain": [
       "Index(['ClientID', 'BirthYear', 'AcademicLevel', 'RelationshipStatus',\n",
       "       'AnnualIncome', 'ChildrenAtHome', 'TeensAtHome', 'EnrollmentDate',\n",
       "       'LastPurchaseDays', 'WineSpending', 'FruitSpending', 'MeatSpending',\n",
       "       'FishSpending', 'SweetSpending', 'GoldSpending', 'DiscountedPurchases',\n",
       "       'WebPurchases', 'CatalogPurchases', 'StorePurchases', 'WebVisitsMonth',\n",
       "       'Campaign3Success', 'Campaign4Success', 'Campaign5Success',\n",
       "       'Campaign1Success', 'Campaign2Success', 'RecentComplaint', 'Z_CC',\n",
       "       'Z_R', 'LastCampaignResponse', 'Age', 'TotalSpent', 'Children',\n",
       "       'CustomerSince', 'TotalPurchases', 'TotalSuccessfulCampaignsSuccess',\n",
       "       'Is_Parent'],\n",
       "      dtype='object')"
      ]
     },
     "execution_count": 871,
     "metadata": {},
     "output_type": "execute_result"
    }
   ],
   "source": [
    " data.columns"
   ]
  },
  {
   "cell_type": "markdown",
   "metadata": {},
   "source": [
    "engineered featured  : - ['Age', 'TotalSpent', 'Children',\n",
    "       'CustomerSince', 'TotalPurchases', 'TotalSuccessfulCampaignsSuccess',\n",
    "       'Is_Parent']"
   ]
  },
  {
   "cell_type": "code",
   "execution_count": 872,
   "metadata": {
    "scrolled": false
   },
   "outputs": [
    {
     "data": {
      "text/plain": [
       "<Axes: >"
      ]
     },
     "execution_count": 872,
     "metadata": {},
     "output_type": "execute_result"
    },
    {
     "data": {
      "image/png": "[encoded data removed]",
      "text/plain": [
       "<Figure size 640x480 with 1 Axes>"
      ]
     },
     "metadata": {},
     "output_type": "display_data"
    }
   ],
   "source": [
    "sns.boxplot(data['Age'] , orient ='h' , palette = 'Set3')"
   ]
  },
  {
   "cell_type": "code",
   "execution_count": 873,
   "metadata": {},
   "outputs": [
    {
     "name": "stdout",
     "output_type": "stream",
     "text": [
      "91.14640479922893 19.24198805791393 54.0\n",
      "number of outlires: 3 ,outlire are capped\n"
     ]
    }
   ],
   "source": [
    "upper_limit = data['Age'].mean() + 3*data['Age'].std() \n",
    "lower_limit = data['Age'].mean() - 3*data['Age'].std()\n",
    "replaced_value  = data['Age'].median()\n",
    "x = data[(data['Age']>upper_limit) | (data['Age']<lower_limit)]\n",
    "data['Age'] = np.where(data['Age'] > upper_limit,upper_limit, \n",
    "                              np.where(data['Age'] < lower_limit,lower_limit , data['Age'] ))\n",
    "print(upper_limit ,lower_limit , replaced_value ) \n",
    "print('number of outlires:',x.shape[0] , ',outlire are capped')"
   ]
  },
  {
   "cell_type": "code",
   "execution_count": 874,
   "metadata": {},
   "outputs": [
    {
     "data": {
      "text/plain": [
       "<Axes: >"
      ]
     },
     "execution_count": 874,
     "metadata": {},
     "output_type": "execute_result"
    },
    {
     "data": {
      "image/png": "[encoded data removed]",
      "text/plain": [
       "<Figure size 640x480 with 1 Axes>"
      ]
     },
     "metadata": {},
     "output_type": "display_data"
    }
   ],
   "source": [
    "sns.boxplot(data['Age'] , orient ='h' , palette = 'Set3')"
   ]
  },
  {
   "cell_type": "code",
   "execution_count": 875,
   "metadata": {},
   "outputs": [
    {
     "data": {
      "image/png": "[encoded data removed]",
      "text/plain": [
       "<Figure size 640x480 with 1 Axes>"
      ]
     },
     "metadata": {},
     "output_type": "display_data"
    }
   ],
   "source": [
    "sns.boxplot(data['TotalSpent'], orient = 'h' , palette= 'Set3')\n",
    "plt.tight_layout()"
   ]
  },
  {
   "cell_type": "code",
   "execution_count": 876,
   "metadata": {},
   "outputs": [
    {
     "name": "stdout",
     "output_type": "stream",
     "text": [
      "2412.5460783186177 -1200.9496497471891 396.0\n",
      "number of outlires: 5 ,outlire are capped\n"
     ]
    }
   ],
   "source": [
    "upper_limit = data['TotalSpent'].mean() + 3*data['TotalSpent'].std() \n",
    "lower_limit = data['TotalSpent'].mean() - 3*data['TotalSpent'].std()\n",
    "replaced_value  = data['TotalSpent'].median()\n",
    "x = data[(data['TotalSpent']>upper_limit) | (data['TotalSpent']<lower_limit)]\n",
    "data['TotalSpent'] = np.where(data['TotalSpent'] > upper_limit,upper_limit, \n",
    "                              np.where(data['TotalSpent'] < lower_limit,lower_limit , data['TotalSpent'] ))\n",
    "print(upper_limit ,lower_limit , replaced_value )\n",
    "print('number of outlires:',x.shape[0] , ',outlire are capped')"
   ]
  },
  {
   "cell_type": "code",
   "execution_count": 877,
   "metadata": {},
   "outputs": [
    {
     "data": {
      "image/png": "[encoded data removed]",
      "text/plain": [
       "<Figure size 640x480 with 1 Axes>"
      ]
     },
     "metadata": {},
     "output_type": "display_data"
    }
   ],
   "source": [
    "sns.boxplot(data['TotalSpent'], orient = 'h' , palette= 'Set3')\n",
    "plt.tight_layout()"
   ]
  },
  {
   "cell_type": "code",
   "execution_count": 878,
   "metadata": {},
   "outputs": [
    {
     "data": {
      "image/png": "[encoded data removed]",
      "text/plain": [
       "<Figure size 640x480 with 1 Axes>"
      ]
     },
     "metadata": {},
     "output_type": "display_data"
    }
   ],
   "source": [
    "sns.boxplot(data['Children'], orient = 'h' , palette= 'Set3')\n",
    "plt.tight_layout()"
   ]
  },
  {
   "cell_type": "code",
   "execution_count": 879,
   "metadata": {},
   "outputs": [
    {
     "data": {
      "text/plain": [
       "Children\n",
       "1    1128\n",
       "0     638\n",
       "2     421\n",
       "3      53\n",
       "Name: count, dtype: int64"
      ]
     },
     "execution_count": 879,
     "metadata": {},
     "output_type": "execute_result"
    }
   ],
   "source": [
    "data['Children'].value_counts()"
   ]
  },
  {
   "cell_type": "markdown",
   "metadata": {},
   "source": [
    "hence max number of children is 3 so it contain no outlires"
   ]
  },
  {
   "cell_type": "code",
   "execution_count": 880,
   "metadata": {},
   "outputs": [
    {
     "data": {
      "image/png": "[encoded data removed]",
      "text/plain": [
       "<Figure size 640x480 with 1 Axes>"
      ]
     },
     "metadata": {},
     "output_type": "display_data"
    }
   ],
   "source": [
    "sns.boxplot(data['CustomerSince'], orient = 'h' , palette= 'Set3')\n",
    "plt.tight_layout()"
   ]
  },
  {
   "cell_type": "code",
   "execution_count": 881,
   "metadata": {},
   "outputs": [
    {
     "name": "stdout",
     "output_type": "stream",
     "text": [
      "13.025537957522413 8.918212042477588 11.0\n",
      "number of outlires : 0\n"
     ]
    }
   ],
   "source": [
    "upper_limit = data['CustomerSince'].mean() + 3*data['CustomerSince'].std() \n",
    "lower_limit = data['CustomerSince'].mean() - 3*data['CustomerSince'].std()\n",
    "replaced_value  = data['CustomerSince'].median()\n",
    "x = data[(data['CustomerSince']>upper_limit) | (data['CustomerSince']<lower_limit)]\n",
    "data['CustomerSince'] = np.where(data['CustomerSince'] > upper_limit,upper_limit, \n",
    "                              np.where(data['CustomerSince'] < lower_limit,lower_limit , data['CustomerSince'] ))\n",
    "print(upper_limit ,lower_limit , replaced_value )\n",
    "print('number of outlires :' ,x.shape[0])"
   ]
  },
  {
   "cell_type": "code",
   "execution_count": 882,
   "metadata": {},
   "outputs": [
    {
     "data": {
      "image/png": "[encoded data removed]",
      "text/plain": [
       "<Figure size 640x480 with 1 Axes>"
      ]
     },
     "metadata": {},
     "output_type": "display_data"
    }
   ],
   "source": [
    "sns.boxplot(data['TotalPurchases'], orient = 'h' , palette= 'Set3')\n",
    "plt.tight_layout()"
   ]
  },
  {
   "cell_type": "code",
   "execution_count": 883,
   "metadata": {},
   "outputs": [
    {
     "name": "stdout",
     "output_type": "stream",
     "text": [
      "37.89357139595621 -8.169464253099065 15.0\n",
      "number of outlires: 3 ,outlire are capped\n"
     ]
    }
   ],
   "source": [
    "upper_limit = data['TotalPurchases'].mean() + 3*data['TotalPurchases'].std() \n",
    "lower_limit = data['TotalPurchases'].mean() - 3*data['TotalPurchases'].std() \n",
    "replaced_value  = data['TotalPurchases'].median()\n",
    "x = data[(data['TotalPurchases']>upper_limit) | (data['TotalPurchases']<lower_limit)]\n",
    "data['TotalPurchases'] = np.where(data['TotalPurchases'] > upper_limit,upper_limit, \n",
    "                              np.where(data['TotalPurchases'] < lower_limit,lower_limit , data['TotalPurchases'] ))\n",
    "print(upper_limit ,lower_limit , replaced_value )\n",
    "print('number of outlires:', x.shape[0] , ',outlire are capped')"
   ]
  },
  {
   "cell_type": "code",
   "execution_count": 884,
   "metadata": {
    "scrolled": false
   },
   "outputs": [
    {
     "data": {
      "image/png": "[encoded data removed]",
      "text/plain": [
       "<Figure size 640x480 with 1 Axes>"
      ]
     },
     "metadata": {},
     "output_type": "display_data"
    }
   ],
   "source": [
    "sns.boxplot(data['TotalPurchases'], orient = 'h' , palette= 'Set3')\n",
    "plt.tight_layout()"
   ]
  },
  {
   "cell_type": "markdown",
   "metadata": {},
   "source": [
    " 'Is_Parent' contain only 0 and 1 values so it does't contain any outlire"
   ]
  },
  {
   "cell_type": "code",
   "execution_count": 885,
   "metadata": {},
   "outputs": [
    {
     "data": {
      "text/plain": [
       "Is_Parent\n",
       "1    1602\n",
       "0     638\n",
       "Name: count, dtype: int64"
      ]
     },
     "execution_count": 885,
     "metadata": {},
     "output_type": "execute_result"
    }
   ],
   "source": [
    " data['Is_Parent'].value_counts()"
   ]
  },
  {
   "cell_type": "code",
   "execution_count": 886,
   "metadata": {},
   "outputs": [
    {
     "data": {
      "text/plain": [
       "TotalSuccessfulCampaignsSuccess\n",
       "0    1777\n",
       "1     325\n",
       "2      83\n",
       "3      44\n",
       "4      11\n",
       "Name: count, dtype: int64"
      ]
     },
     "execution_count": 886,
     "metadata": {},
     "output_type": "execute_result"
    }
   ],
   "source": [
    "data[ 'TotalSuccessfulCampaignsSuccess'].value_counts()"
   ]
  },
  {
   "cell_type": "markdown",
   "metadata": {},
   "source": [
    "max TotalSuccessfulCampaignsSuccess can be 5 so it doesn't contain any outlires"
   ]
  },
  {
   "cell_type": "markdown",
   "metadata": {},
   "source": [
    "hence all engineered feature have no outlires"
   ]
  },
  {
   "cell_type": "markdown",
   "metadata": {},
   "source": [
    "## BIVARIATE ANALYSIS"
   ]
  },
  {
   "cell_type": "code",
   "execution_count": 887,
   "metadata": {},
   "outputs": [
    {
     "data": {
      "image/png": "[encoded data removed]",
      "text/plain": [
       "<Figure size 1000x1000 with 1 Axes>"
      ]
     },
     "metadata": {},
     "output_type": "display_data"
    }
   ],
   "source": [
    "# AnnualIncome by AcademicLevel\n",
    "analysisData = pd.DataFrame({\n",
    "    'AcademicLevel': data['AcademicLevel'],\n",
    "    'AnnualIncome': data['AnnualIncome'],\n",
    "})\n",
    "plt.figure(figsize=(10, 10))\n",
    "sns.boxplot(x='AcademicLevel', y='AnnualIncome', data=analysisData)\n",
    "plt.title('Distribution of AnnualIncome across AcademicLevels')\n",
    "plt.xlabel('Academic Level')\n",
    "plt.ylabel('Annual Income ($)')\n",
    "plt.show()"
   ]
  },
  {
   "cell_type": "code",
   "execution_count": 888,
   "metadata": {},
   "outputs": [
    {
     "name": "stdout",
     "output_type": "stream",
     "text": [
      "Null Hypothesis: The distributions of AnnualIncome for PhD and Master degree owners are the same.\n",
      "Alternate Hypothesis: The distributions of AnnualIncome for PhD and Master degree owners are different.\n",
      "\n",
      "Performing the Mann-Whitney U Test to check the hypothesis...\n",
      "Statistic: 97874.5\n",
      "p-value: 0.026259430805670697\n",
      "Significance: 0.05\n",
      "\n",
      "Null hypothesis is rejected. There is a significant difference in average AnnualIncome between PHD and Master degree owners.\n"
     ]
    }
   ],
   "source": [
    "# Statistically Test If Average of AnnualIncome is the same for both PHD Owners and Master Owners.\n",
    "\n",
    "phd_income = data[data['AcademicLevel'] == 'PhD']['AnnualIncome']\n",
    "master_income = data[data['AcademicLevel'] == 'Master']['AnnualIncome']\n",
    "\n",
    "statistic, p_value = stats.mannwhitneyu(phd_income, master_income)\n",
    "\n",
    "alpha = 0.05\n",
    "\n",
    "print(\"Null Hypothesis: The distributions of AnnualIncome for PhD and Master degree owners are the same.\")\n",
    "print(\"Alternate Hypothesis: The distributions of AnnualIncome for PhD and Master degree owners are different.\\n\")\n",
    "\n",
    "print(\"Performing the Mann-Whitney U Test to check the hypothesis...\")\n",
    "print(\"Statistic:\", statistic)\n",
    "print(\"p-value:\", p_value)\n",
    "print(\"Significance:\", alpha)\n",
    "\n",
    "if p_value < alpha:\n",
    "    print(\"\\nNull hypothesis is rejected. There is a significant difference in average AnnualIncome between PHD and Master degree owners.\")\n",
    "else:\n",
    "    print(\"Cannot reject Null hypothesis. There is no significant difference in average AnnualIncome between PHD and Master degree owners.\")"
   ]
  },
  {
   "cell_type": "code",
   "execution_count": null,
   "metadata": {},
   "outputs": [],
   "source": []
  }
 ],
 "metadata": {
  "kernelspec": {
   "display_name": "Python 3 (ipykernel)",
   "language": "python",
   "name": "python3"
  },
  "language_info": {
   "codemirror_mode": {
    "name": "ipython",
    "version": 3
   },
   "file_extension": ".py",
   "mimetype": "text/x-python",
   "name": "python",
   "nbconvert_exporter": "python",
   "pygments_lexer": "ipython3",
   "version": "3.11.5"
  }
 },
 "nbformat": 4,
 "nbformat_minor": 2
}
